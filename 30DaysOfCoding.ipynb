{
 "cells": [
  {
   "cell_type": "markdown",
   "metadata": {},
   "source": [
    "# HackerRank 30 Days of Coding:"
   ]
  },
  {
   "cell_type": "markdown",
   "metadata": {},
   "source": [
    "### Day 8 : Dictionaries \n",
    "#### Task \n",
    "Given  names and phone numbers, assemble a phone book that maps friends' names to their respective phone numbers. You will then be given an unknown number of names to query your phone book for. For each queried, print the associated entry from your phone book on a new line in the form name=phoneNumber; if an entry for  is not found, print Not found instead.\n",
    "\n",
    "Note: Your phone book should be a Dictionary/Map/HashMap data structure.\n",
    "\n",
    "#### Input Format\n",
    "\n",
    "The first line contains an integer, , denoting the number of entries in the phone book. \n",
    "Each of the  subsequent lines describes an entry in the form of  space-separated values on a single line. The first value is a friend's name, and the second value is an -digit phone number.\n",
    "\n",
    "After the  lines of phone book entries, there are an unknown number of lines of queries. Each line (query) contains a  to look up, and you must continue reading lines until there is no more input.\n",
    "\n",
    "Note: Names consist of lowercase English alphabetic letters and are first names only.\n",
    "\n",
    "#### Output Format\n",
    "\n",
    "On a new line for each query, print Not found if the name has no corresponding entry in the phone book; otherwise, print the full  and  in the format name=phoneNumber.\n",
    "\n",
    "Sample Input\n",
    "\n",
    "3\n",
    "sam 99912222\n",
    "tom 11122222\n",
    "harry 12299933\n",
    "sam\n",
    "edward\n",
    "harry\n",
    "Sample Output\n",
    "\n",
    "sam=99912222\n",
    "Not found\n",
    "harry=12299933\n",
    "Explanation\n",
    "\n",
    "We add the following  (Key,Value) pairs to our map so it looks like this:\n",
    "\n",
    "We then process each query and print key=value if the queried  is found in the map; otherwise, we print Not found.\n",
    "\n",
    "Query 0: sam \n",
    "Sam is one of the keys in our dictionary, so we print sam=99912222.\n",
    "\n",
    "Query 1: edward \n",
    "Edward is not one of the keys in our dictionary, so we print Not found.\n",
    "\n",
    "Query 2: harry \n",
    "Harry is one of the keys in our dictionary, so we print harry=12299933.\n",
    "    "
   ]
  },
  {
   "cell_type": "markdown",
   "metadata": {},
   "source": [
    "### Solution:"
   ]
  },
  {
   "cell_type": "code",
   "execution_count": null,
   "metadata": {
    "collapsed": true
   },
   "outputs": [],
   "source": [
    "# Enter your code here. Read input from STDIN. Print output to STDOUT\n",
    "#import re\n",
    "entries = int(input())\n",
    "name_numbers = dict([raw_input().split() for _ in range(entries)])\n",
    "name_numbers_ = {x:int(y) for (x,y) in name_numbers.iteritems()}\n",
    "while(True):\n",
    "    try:\n",
    "        qName = raw_input().strip()\n",
    "        if qName in name_numbers_:\n",
    "            print qName+'='+str(name_numbers_[qName])\n",
    "        else:\n",
    "            print \"Not found\"\n",
    "    except EOFError:\n",
    "        break"
   ]
  },
  {
   "cell_type": "markdown",
   "metadata": {},
   "source": [
    "### Day 9: Recursions\n",
    "\n",
    "#### Objective \n",
    "Today, we're learning and practicing an algorithmic concept called Recursion. Check out the Tutorial tab for learning materials and an instructional video!\n",
    "\n",
    "Recursive Method for Calculating Factorial \n",
    "Task \n",
    "Write a factorial function that takes a positive integer,  as a parameter and prints the result of  ( factorial).\n",
    "\n",
    "Note: If you fail to use recursion or fail to name your recursive function factorial or Factorial, you will get a score of .\n",
    "\n",
    "#### Input Format\n",
    "\n",
    "A single integer,  (the argument to pass to factorial).\n",
    "\n",
    "#### Constraints\n",
    "\n",
    "Your submission must contain a recursive function named factorial.\n",
    "\n",
    "#### Output Format\n",
    "\n",
    "Print a single integer denoting .\n",
    "\n",
    "Sample Input\n",
    "\n",
    "3\n",
    "Sample Output\n",
    "\n",
    "6\n",
    "Explanation\n",
    "\n",
    "Consider the following steps:\n",
    "\n",
    "From steps  and , we can say ; then when we apply the value from  to step , we get . Thus, we print  as our answer."
   ]
  },
  {
   "cell_type": "code",
   "execution_count": 55,
   "metadata": {
    "collapsed": false
   },
   "outputs": [
    {
     "name": "stdout",
     "output_type": "stream",
     "text": [
      "3\n"
     ]
    }
   ],
   "source": [
    "# Enter your code here. Read input from STDIN. Print output to STDOUT\n",
    "n = int(input())\n",
    "def factorial(n):\n",
    "    if n == 1:\n",
    "        return 1\n",
    "    else:\n",
    "        return n * factorial(n-1)\n",
    "\n",
    "print factorial(n)"
   ]
  },
  {
   "cell_type": "markdown",
   "metadata": {},
   "source": [
    "another way to solve it:"
   ]
  },
  {
   "cell_type": "code",
   "execution_count": 57,
   "metadata": {
    "collapsed": false
   },
   "outputs": [
    {
     "name": "stdout",
     "output_type": "stream",
     "text": [
      "5\n",
      "120\n"
     ]
    }
   ],
   "source": [
    "factorial = lambda x : 1 if x<=1 else x*factorial(x-1)\n",
    "print(factorial(int(input())))"
   ]
  },
  {
   "cell_type": "markdown",
   "metadata": {},
   "source": [
    "# 10 Days of Statistics: Covariance & Pearson rho"
   ]
  },
  {
   "cell_type": "code",
   "execution_count": 65,
   "metadata": {
    "collapsed": false,
    "scrolled": true
   },
   "outputs": [
    {
     "name": "stdout",
     "output_type": "stream",
     "text": [
      "10 9.8 8 7.8 7.7 7 6 5 4 2 \n"
     ]
    },
    {
     "data": {
      "text/plain": [
       "['10', '9.8', '8', '7.8', '7.7', '7', '6', '5', '4', '2']"
      ]
     },
     "execution_count": 65,
     "metadata": {},
     "output_type": "execute_result"
    }
   ],
   "source": [
    "10\n",
    "10 9.8 8 7.8 7.7 7 6 5 4 2 \n",
    "200 44 32 24 22 17 15 12 8 4"
   ]
  },
  {
   "cell_type": "code",
   "execution_count": 97,
   "metadata": {
    "collapsed": false
   },
   "outputs": [
    {
     "name": "stdout",
     "output_type": "stream",
     "text": [
      "10\n",
      "10 9.8 8 7.8 7.7 7 6 5 4 2 \n",
      "200 44 32 24 22 17 15 12 8 4\n"
     ]
    },
    {
     "ename": "TypeError",
     "evalue": "unsupported operand type(s) for -: 'list' and 'float'",
     "output_type": "error",
     "traceback": [
      "\u001b[0;31m---------------------------------------------------------------------------\u001b[0m",
      "\u001b[0;31mTypeError\u001b[0m                                 Traceback (most recent call last)",
      "\u001b[0;32m<ipython-input-97-d75f27cf2e20>\u001b[0m in \u001b[0;36m<module>\u001b[0;34m()\u001b[0m\n\u001b[1;32m     10\u001b[0m \u001b[0mY\u001b[0m \u001b[0;34m=\u001b[0m \u001b[0mmap\u001b[0m\u001b[0;34m(\u001b[0m\u001b[0mfloat\u001b[0m\u001b[0;34m,\u001b[0m\u001b[0mraw_input\u001b[0m\u001b[0;34m(\u001b[0m\u001b[0;34m)\u001b[0m\u001b[0;34m.\u001b[0m\u001b[0msplit\u001b[0m\u001b[0;34m(\u001b[0m\u001b[0;34m)\u001b[0m\u001b[0;34m)\u001b[0m\u001b[0;34m\u001b[0m\u001b[0m\n\u001b[1;32m     11\u001b[0m \u001b[0;34m\u001b[0m\u001b[0m\n\u001b[0;32m---> 12\u001b[0;31m \u001b[0mrho\u001b[0m \u001b[0;34m=\u001b[0m \u001b[0;34m(\u001b[0m\u001b[0msum\u001b[0m\u001b[0;34m(\u001b[0m\u001b[0;34m(\u001b[0m\u001b[0mX\u001b[0m \u001b[0;34m-\u001b[0m \u001b[0mmean\u001b[0m\u001b[0;34m(\u001b[0m\u001b[0mX\u001b[0m\u001b[0;34m)\u001b[0m\u001b[0;34m*\u001b[0m\u001b[0;34m(\u001b[0m\u001b[0mY\u001b[0m \u001b[0;34m-\u001b[0m \u001b[0mmean\u001b[0m\u001b[0;34m(\u001b[0m\u001b[0mY\u001b[0m\u001b[0;34m)\u001b[0m\u001b[0;34m)\u001b[0m\u001b[0;34m)\u001b[0m\u001b[0;34m)\u001b[0m\u001b[0;34m)\u001b[0m\u001b[0;34m/\u001b[0m\u001b[0mn\u001b[0m\u001b[0;34m*\u001b[0m\u001b[0mst_dev\u001b[0m\u001b[0;34m(\u001b[0m\u001b[0mX\u001b[0m\u001b[0;34m)\u001b[0m\u001b[0;34m*\u001b[0m\u001b[0mst_dev\u001b[0m\u001b[0;34m(\u001b[0m\u001b[0mY\u001b[0m\u001b[0;34m)\u001b[0m\u001b[0;34m\u001b[0m\u001b[0m\n\u001b[0m",
      "\u001b[0;31mTypeError\u001b[0m: unsupported operand type(s) for -: 'list' and 'float'"
     ]
    }
   ],
   "source": [
    "def mean(data):\n",
    "    n = len(data)\n",
    "    return sum(data)/n\n",
    "def st_dev(data):\n",
    "    c = mean(data)\n",
    "    ss = sum((x-c)**2 for x in data)\n",
    "    \n",
    "n = int(input())\n",
    "X = map(float,raw_input().split())\n",
    "Y = map(float,raw_input().split())\n",
    "\n",
    "rho = (sum((X - mean(X)*(Y - mean(Y)))))/n*st_dev(X)*st_dev(Y)\n",
    "print rho"
   ]
  },
  {
   "cell_type": "code",
   "execution_count": 104,
   "metadata": {
    "collapsed": false
   },
   "outputs": [
    {
     "name": "stdout",
     "output_type": "stream",
     "text": [
      "[10.0, 9.8, 8.0, 7.8, 7.7, 7.0, 6.0, 5.0, 4.0, 2.0]\n"
     ]
    },
    {
     "ename": "TypeError",
     "evalue": "'generator' object does not support item assignment",
     "output_type": "error",
     "traceback": [
      "\u001b[0;31m---------------------------------------------------------------------------\u001b[0m",
      "\u001b[0;31mTypeError\u001b[0m                                 Traceback (most recent call last)",
      "\u001b[0;32m<ipython-input-104-62d35d8a1f6a>\u001b[0m in \u001b[0;36m<module>\u001b[0;34m()\u001b[0m\n\u001b[1;32m      1\u001b[0m \u001b[0;32mprint\u001b[0m \u001b[0mX\u001b[0m\u001b[0;34m\u001b[0m\u001b[0m\n\u001b[0;32m----> 2\u001b[0;31m \u001b[0mz\u001b[0m\u001b[0;34m[\u001b[0m\u001b[0;34m:\u001b[0m\u001b[0;34m]\u001b[0m \u001b[0;34m=\u001b[0m \u001b[0;34m(\u001b[0m\u001b[0mx\u001b[0m\u001b[0;34m-\u001b[0m\u001b[0;36m5\u001b[0m \u001b[0;32mfor\u001b[0m \u001b[0mx\u001b[0m \u001b[0;32min\u001b[0m \u001b[0mX\u001b[0m\u001b[0;34m)\u001b[0m\u001b[0;34m\u001b[0m\u001b[0m\n\u001b[0m\u001b[1;32m      3\u001b[0m \u001b[0;31m#[x - 13 for x in a]\u001b[0m\u001b[0;34m\u001b[0m\u001b[0;34m\u001b[0m\u001b[0m\n\u001b[1;32m      4\u001b[0m \u001b[0;32mprint\u001b[0m \u001b[0mz\u001b[0m\u001b[0;34m\u001b[0m\u001b[0m\n\u001b[1;32m      5\u001b[0m \u001b[0;31m#X - mean(X)\u001b[0m\u001b[0;34m\u001b[0m\u001b[0;34m\u001b[0m\u001b[0m\n",
      "\u001b[0;31mTypeError\u001b[0m: 'generator' object does not support item assignment"
     ]
    }
   ],
   "source": [
    "print X\n",
    "z[:] = (x-mean(X) for x in X)\n",
    "#[x - 13 for x in a]\n",
    "print z\n",
    "#X - mean(X)"
   ]
  },
  {
   "cell_type": "code",
   "execution_count": 73,
   "metadata": {
    "collapsed": false
   },
   "outputs": [],
   "source": [
    "def mean(data):\n",
    "    n = len(data)\n",
    "    return sum(data)/n\n",
    "def st_dev(data):\n",
    "    c = mean(data)\n",
    "    ss = sum((x-c)**2 for x in data)"
   ]
  },
  {
   "cell_type": "code",
   "execution_count": 86,
   "metadata": {
    "collapsed": false
   },
   "outputs": [
    {
     "data": {
      "text/plain": [
       "[10.0, 9.8, 8.0, 7.8, 7.7, 7.0, 6.0, 5.0, 4.0, 2.0]"
      ]
     },
     "execution_count": 86,
     "metadata": {},
     "output_type": "execute_result"
    }
   ],
   "source": [
    "map(float, X)"
   ]
  },
  {
   "cell_type": "markdown",
   "metadata": {
    "collapsed": false
   },
   "source": [
    "# Day 11: More 2-D Arrays\n",
    "\n",
    "Objective \n",
    "Today, we're building on our knowledge of Arrays by adding another dimension. Check out the Tutorial tab for learning materials and an instructional video!\n",
    "\n",
    "Context \n",
    "Given a  2D Array, :\n",
    "\n",
    "1 1 1 0 0 0\n",
    "0 1 0 0 0 0\n",
    "1 1 1 0 0 0\n",
    "0 0 0 0 0 0\n",
    "0 0 0 0 0 0\n",
    "0 0 0 0 0 0\n",
    "We define an hourglass in  to be a subset of values with indices falling in this pattern in 's graphical representation:\n",
    "\n",
    "a b c\n",
    "  d\n",
    "e f g\n",
    "There are  hourglasses in , and an hourglass sum is the sum of an hourglass' values.\n",
    "\n",
    "Task \n",
    "Calculate the hourglass sum for every hourglass in , then print the maximum hourglass sum.\n",
    "\n",
    "Input Format\n",
    "\n",
    "There are  lines of input, where each line contains  space-separated integers describing 2D Array ; every value in  will be in the inclusive range of  to .\n",
    "\n",
    "Constraints\n",
    "\n",
    "Output Format\n",
    "\n",
    "Print the largest (maximum) hourglass sum found in .\n",
    "\n",
    "Sample Input\n",
    "\n",
    "1 1 1 0 0 0\n",
    "0 1 0 0 0 0\n",
    "1 1 1 0 0 0\n",
    "0 0 2 4 4 0\n",
    "0 0 0 2 0 0\n",
    "0 0 1 2 4 0\n",
    "Sample Output\n",
    "\n",
    "19\n",
    "Explanation\n",
    "\n",
    " contains the following hourglasses:\n",
    "\n",
    "1 1 1   1 1 0   1 0 0   0 0 0\n",
    "  1       0       0       0\n",
    "1 1 1   1 1 0   1 0 0   0 0 0\n",
    "\n",
    "0 1 0   1 0 0   0 0 0   0 0 0\n",
    "  1       1       0       0\n",
    "0 0 2   0 2 4   2 4 4   4 4 0\n",
    "\n",
    "1 1 1   1 1 0   1 0 0   0 0 0\n",
    "  0       2       4       4\n",
    "0 0 0   0 0 2   0 2 0   2 0 0\n",
    "\n",
    "0 0 2   0 2 4   2 4 4   4 4 0\n",
    "  0       0       2       0\n",
    "0 0 1   0 1 2   1 2 4   2 4 0\n",
    "The hourglass with the maximum sum () is:\n",
    "\n",
    "2 4 4\n",
    "  2\n",
    "1 2 4"
   ]
  },
  {
   "cell_type": "code",
   "execution_count": null,
   "metadata": {
    "collapsed": true
   },
   "outputs": [],
   "source": [
    "import numpy as np\n",
    "arr = [[1,1,1,0,0,0],[0,1,0,0,0,0],[1,1,1,0,0,0],[0,0,2,4,4,0],[0,0,0,2,0,0],[0,0,1,2,4,0]]\n",
    "arrr =  np.array(arr)\n",
    "print arrr"
   ]
  },
  {
   "cell_type": "code",
   "execution_count": 50,
   "metadata": {
    "collapsed": false
   },
   "outputs": [
    {
     "name": "stdout",
     "output_type": "stream",
     "text": [
      "14\n"
     ]
    }
   ],
   "source": [
    "maximum = -100\n",
    "for i in range(4):\n",
    "    #print 'i ' + str(i)\n",
    "    for j in range(4):\n",
    "        #print 'j ' + str(j)\n",
    "        suma = arr[i+1][j+1]\n",
    "        #print 'sum ' + str(suma)\n",
    "        for x in range(3):\n",
    "            #print 'x ' + str(x)\n",
    "            suma += arr[i][j+x] + arr[i+2][j+x]\n",
    "            #print 'sum ' + str(suma)\n",
    "        if suma > maximum:\n",
    "            max = suma              \n",
    "print(max)\n",
    "\n"
   ]
  },
  {
   "cell_type": "markdown",
   "metadata": {},
   "source": [
    "# Day 12: Class Inheritance\n",
    "\n",
    "Objective \n",
    "Today, we're delving into Inheritance. Check out the Tutorial tab for learning materials and an instructional video!\n",
    "\n",
    "Task \n",
    "You are given two classes, Person and Student, where Person is the base class and Student is the derived class. Completed code for Person and a declaration for Student are provided for you in the editor. Observe that Student inherits all the properties of Person.\n",
    "\n",
    "Complete the Student class by writing the following:\n",
    "\n",
    "A Student class constructor, which has  parameters:\n",
    "A string, .\n",
    "A string, .\n",
    "An integer, .\n",
    "An integer array (or vector) of test scores, .\n",
    "A char calculate() method that calculates a Student object's average and returns the grade character representative of their calculated average:\n",
    "Grading.png\n",
    "\n",
    "Input Format\n",
    "\n",
    "The locked stub code in your editor calls your Student class constructor and passes it the necessary arguments. It also calls the calculate method (which takes no arguments).\n",
    "\n",
    "You are not responsible for reading the following input from stdin: \n",
    "The first line contains , , and , respectively. The second line contains the number of test scores. The third line of space-separated integers describes .\n",
    "\n",
    "Constraints\n",
    "\n",
    "Output Format\n",
    "\n",
    "This is handled by the locked stub code in your editor. Your output will be correct if your Student class constructor and calculate() method are properly implemented.\n",
    "\n",
    "Sample Input\n",
    "\n",
    "Heraldo Memelli 8135627\n",
    "2\n",
    "100 80\n",
    "Sample Output\n",
    "\n",
    " Name: Memelli, Heraldo\n",
    " ID: 8135627\n",
    " Grade: O\n"
   ]
  },
  {
   "cell_type": "code",
   "execution_count": null,
   "metadata": {
    "collapsed": true
   },
   "outputs": [],
   "source": [
    "Heraldo Memelli 8135627\n",
    "2\n",
    "100 80"
   ]
  },
  {
   "cell_type": "code",
   "execution_count": 8,
   "metadata": {
    "collapsed": false
   },
   "outputs": [
    {
     "name": "stdout",
     "output_type": "stream",
     "text": [
      "Heraldo Memelli 8135627\n",
      "2\n",
      "100 90\n",
      "Name: Memelli, Heraldo\n",
      "ID: 8135627\n",
      "Grade: O\n"
     ]
    }
   ],
   "source": [
    "line = raw_input().split()\n",
    "firstName = line[0]\n",
    "lastName = line[1]\n",
    "idNum = line[2]\n",
    "numScores = int(raw_input()) # not needed for Python\n",
    "scores = map(int, raw_input().split())\n",
    "s = Student(firstName, lastName, idNum, scores)\n",
    "s.printPerson()\n",
    "print \"Grade:\", s.calculate()"
   ]
  },
  {
   "cell_type": "code",
   "execution_count": 7,
   "metadata": {
    "collapsed": false
   },
   "outputs": [],
   "source": [
    "class Person:\n",
    "\tdef __init__(self, firstName, lastName, idNumber):\n",
    "\t\tself.firstName = firstName\n",
    "\t\tself.lastName = lastName\n",
    "\t\tself.idNumber = idNumber\n",
    "\tdef printPerson(self):\n",
    "\t\tprint \"Name:\", self.lastName + \",\", self.firstName\n",
    "\t\tprint \"ID:\", self.idNumber\n",
    "class Student(Person):\n",
    "    def __init__(self, firstName, lastName, idNumber, scores):\n",
    "        Person.__init__(self, firstName, lastName, idNumber)\n",
    "        self.scores = scores\n",
    "    def calculate(self):\n",
    "        grade_average = sum(self.scores)/len(self.scores)\n",
    "        if 90 <= grade_average <= 100:\n",
    "            return \"O\"\n",
    "        elif 80 <= grade_average < 90:\n",
    "            return \"E\"\n",
    "        elif 70 <= grade_average < 80:\n",
    "            return \"A\"\n",
    "        elif 55 <= grade_average < 70:\n",
    "            return \"P\"\n",
    "        elif 40 <= grade_average < 55:\n",
    "            return \"D\"\n",
    "        else:\n",
    "            return \"T\"\n",
    "        "
   ]
  },
  {
   "cell_type": "markdown",
   "metadata": {},
   "source": [
    "# Day 13: Abstract Classes\n",
    "\n",
    "Objective \n",
    "Today, we're taking what we learned yesterday about Inheritance and extending it to Abstract Classes. Because this is a very specific Object-Oriented concept, submissions are limited to the few languages that use this construct. Check out the Tutorial tab for learning materials and an instructional video!\n",
    "\n",
    "Task \n",
    "Given a Book class and a Solution class, write a MyBook class that does the following:\n",
    "\n",
    "Inherits from Book\n",
    "Has a parameterized constructor taking these  parameters:\n",
    "string \n",
    "string \n",
    "int \n",
    "Implements the Book class' abstract display() method so it prints these  lines:\n",
    ", a space, and then the current instance's .\n",
    ", a space, and then the current instance's .\n",
    ", a space, and then the current instance's .\n",
    "Note: Because these classes are being written in the same file, you must not use an access modifier (e.g.: ) when declaring MyBook or your code will not execute.\n",
    "\n",
    "Input Format\n",
    "\n",
    "You are not responsible for reading any input from stdin. The Solution class creates a Book object and calls the MyBook class constructor (passing it the necessary arguments). It then calls the display method on the Book object.\n",
    "\n",
    "Output Format\n",
    "\n",
    "The  method should print and label the respective , , and  of the MyBook object's instance (with each value on its own line) like so:\n",
    "\n",
    "Title: $title\n",
    "Author: $author\n",
    "Price: $price\n",
    "Note: The  is prepended to variable names to indicate they are placeholders for variables.\n",
    "\n",
    "Sample Input\n",
    "\n",
    "The following input from stdin is handled by the locked stub code in your editor:\n",
    "\n",
    "The Alchemist\n",
    "Paulo Coelho\n",
    "248\n",
    "Sample Output\n",
    "\n",
    "The following output is printed by your display() method:\n",
    "\n",
    "Title: The Alchemist\n",
    "Author: Paulo Coelho\n",
    "Price: 248"
   ]
  },
  {
   "cell_type": "code",
   "execution_count": 15,
   "metadata": {
    "collapsed": true
   },
   "outputs": [],
   "source": [
    "from abc import ABCMeta, abstractmethod\n",
    "class Book:\n",
    "    __metaclass__ = ABCMeta\n",
    "    def __init__(self,title,author):\n",
    "        self.title=title\n",
    "        self.author=author   \n",
    "    @abstractmethod\n",
    "    def display(): pass\n",
    "    \n",
    "#Write MyBook class\n",
    "class MyBook(Book):\n",
    "    def __init__(self, title,author,price):\n",
    "        Book.__init__(self, title,author)\n",
    "        self.price = price\n",
    "    def display(self):\n",
    "        print \"Title: \" + self.title\n",
    "        print \"Author: \" + self.author\n",
    "        print \"Price: \" + str(self.price)\n",
    "        "
   ]
  },
  {
   "cell_type": "code",
   "execution_count": 16,
   "metadata": {
    "collapsed": false
   },
   "outputs": [
    {
     "name": "stdout",
     "output_type": "stream",
     "text": [
      "paul\n",
      "paul\n",
      "123\n",
      "Title: paul\n",
      "Author: paul\n",
      "Price: 123\n"
     ]
    }
   ],
   "source": [
    "title=raw_input()\n",
    "author=raw_input()\n",
    "price=int(raw_input())\n",
    "new_novel=MyBook(title,author,price)\n",
    "new_novel.display()"
   ]
  },
  {
   "cell_type": "markdown",
   "metadata": {
    "collapsed": true
   },
   "source": [
    "# Day 14: Scope\n",
    "\n",
    "Objective \n",
    "Today we're discussing scope. Check out the Tutorial tab for learning materials and an instructional video!\n",
    "\n",
    "The absolute difference between two integers,  and , is written as . The maximum absolute difference between two integers in a set of positive integers, , is the largest absolute difference between any two integers in .\n",
    "\n",
    "The Difference class is started for you in the editor. It has a private integer array () for storing  non-negative integers, and a public integer () for storing the maximum absolute difference.\n",
    "\n",
    "Task \n",
    "Complete the Difference class by writing the following:\n",
    "\n",
    "A class constructor that takes an array of integers as a parameter and saves it to the  instance variable.\n",
    "A computeDifference method that finds the maximum absolute difference between any  numbers in  and stores it in the  instance variable.\n",
    "Input Format\n",
    "\n",
    "You are not responsible for reading any input from stdin. The locked Solution class in your editor reads in  lines of input; the first line contains , and the second line describes the  array."
   ]
  },
  {
   "cell_type": "code",
   "execution_count": 22,
   "metadata": {
    "collapsed": false
   },
   "outputs": [],
   "source": [
    "class Difference:\n",
    "    \n",
    "    def __init__(self, a):\n",
    "        \n",
    "        self.__elements = a\n",
    "        \n",
    "    def computeDifference(self):\n",
    "        \n",
    "        self.maximumDifference = abs(max(self.__elements)-min(self.__elements))\n",
    "    "
   ]
  },
  {
   "cell_type": "code",
   "execution_count": 23,
   "metadata": {
    "collapsed": false
   },
   "outputs": [
    {
     "name": "stdout",
     "output_type": "stream",
     "text": [
      "3\n",
      "1 2 5\n",
      "4\n"
     ]
    }
   ],
   "source": [
    "_ = raw_input()\n",
    "a = [int(e) for e in raw_input().split(' ')]\n",
    "\n",
    "d = Difference(a)\n",
    "d.computeDifference()\n",
    "\n",
    "print d.maximumDifference"
   ]
  },
  {
   "cell_type": "code",
   "execution_count": 6,
   "metadata": {
    "collapsed": false
   },
   "outputs": [],
   "source": [
    "#unnecessary function for calculating difference between consecutive elements in a list\n",
    "def diff(__elements):\n",
    "    difference = [abs(__elements[i]-__elements[i+1]) for i in range(len(__elements)-1)]\n",
    "    return difference\n",
    "    #f = max(difference)\n",
    "    #return f"
   ]
  },
  {
   "cell_type": "markdown",
   "metadata": {},
   "source": [
    "# Day 15: Linked Lists\n"
   ]
  },
  {
   "cell_type": "code",
   "execution_count": 60,
   "metadata": {
    "collapsed": true
   },
   "outputs": [],
   "source": [
    "class Node:\n",
    "    def __init__(self,data):\n",
    "        self.data = data\n",
    "        self.next = None\n",
    "class Solution:\n",
    "    def display(self,head):\n",
    "        current = head\n",
    "        while current:\n",
    "            print current.data,\n",
    "            current = current.next\t\n",
    "    def insert(self,head,data): \n",
    "    #Complete this method\n",
    "        if (head == None):\n",
    "            print \"head == None\" + str(data)\n",
    "            head = Node(data)\n",
    "        \n",
    "        else:\n",
    "            curr = head\n",
    "            print \"step curr\"\n",
    "            while(curr.next):\n",
    "                curr = curr.next\n",
    "            \n",
    "            curr.next = Node(data)\n",
    "        return head\n",
    "        "
   ]
  },
  {
   "cell_type": "code",
   "execution_count": 61,
   "metadata": {
    "collapsed": false
   },
   "outputs": [
    {
     "name": "stdout",
     "output_type": "stream",
     "text": [
      "3\n",
      "4\n",
      "head == None4\n",
      "5\n",
      "step curr\n",
      "6\n",
      "step curr\n"
     ]
    }
   ],
   "source": [
    "mylist= Solution()\n",
    "T=int(input())\n",
    "head=None\n",
    "for i in range(T):\n",
    "    data=int(input())\n",
    "    head=mylist.insert(head,data)    \n",
    "#mylist.display(head);"
   ]
  },
  {
   "cell_type": "code",
   "execution_count": 62,
   "metadata": {
    "collapsed": false
   },
   "outputs": [
    {
     "name": "stdout",
     "output_type": "stream",
     "text": [
      "4 5 6\n"
     ]
    }
   ],
   "source": [
    "mylist.display(head)"
   ]
  },
  {
   "cell_type": "markdown",
   "metadata": {
    "collapsed": true
   },
   "source": [
    "# Day 16: Exceptions - Strings to Integers\n",
    "\n",
    "Objective \n",
    "Today, we're getting started with Exceptions by learning how to parse an integer from a string and print a custom error message. Check out the Tutorial tab for learning materials and an instructional video!\n",
    "\n",
    "Task \n",
    "Read a string, , and print its integer value; if  cannot be converted to an integer, print Bad String.\n",
    "\n",
    "Note: You must use the String-to-Integer and exception handling constructs built into your submission language. If you attempt to use loops/conditional statements, you will get a  score."
   ]
  },
  {
   "cell_type": "code",
   "execution_count": 7,
   "metadata": {
    "collapsed": false
   },
   "outputs": [
    {
     "name": "stdout",
     "output_type": "stream",
     "text": [
      "Please enter a number: 4g\n",
      "Oops!  That was no valid number.  Try again...\n",
      "Please enter a number: 3\n"
     ]
    }
   ],
   "source": [
    "while True:\n",
    "    try:\n",
    "        x = int(input(\"Please enter a number: \"))\n",
    "        break\n",
    "    except SyntaxError:\n",
    "        print(\"Oops!  That was no valid number.  Try again...\")"
   ]
  },
  {
   "cell_type": "code",
   "execution_count": 11,
   "metadata": {
    "collapsed": false
   },
   "outputs": [
    {
     "name": "stdout",
     "output_type": "stream",
     "text": [
      "Please enter a number: 3\n",
      "3\n"
     ]
    }
   ],
   "source": [
    "while True:\n",
    "    try:\n",
    "        S = int(input(\"Please enter a number: \"))\n",
    "        print S\n",
    "        break\n",
    "    except ValueError:\n",
    "        print(\"Bad integer\")"
   ]
  },
  {
   "cell_type": "code",
   "execution_count": null,
   "metadata": {
    "collapsed": true
   },
   "outputs": [],
   "source": [
    "#they actually wanted something simpler:\n",
    "\n",
    "import sys\n",
    "S = raw_input().strip()\n",
    "\n",
    "try:\n",
    "    print S\n",
    "except:\n",
    "    print(\"Bad integer\")"
   ]
  },
  {
   "cell_type": "markdown",
   "metadata": {},
   "source": [
    "# Day 17: More Exceptions\n"
   ]
  },
  {
   "cell_type": "code",
   "execution_count": 36,
   "metadata": {
    "collapsed": true
   },
   "outputs": [],
   "source": [
    "#Write your code here\n",
    "class Calculator:\n",
    "    def power(self,n,p):\n",
    "        if n<0:\n",
    "            myError = ValueError('n and p should be non-negative')\n",
    "            raise myError\n",
    "        elif p<0:\n",
    "            myError = ValueError('n and p should be non-negative')\n",
    "            raise myError\n",
    "        else:\n",
    "            return n**p\n",
    "        "
   ]
  },
  {
   "cell_type": "code",
   "execution_count": null,
   "metadata": {
    "collapsed": true
   },
   "outputs": [],
   "source": [
    "Ca=Calculator()\n",
    "Ca.power(-2,4)"
   ]
  },
  {
   "cell_type": "code",
   "execution_count": 39,
   "metadata": {
    "collapsed": false
   },
   "outputs": [
    {
     "name": "stdout",
     "output_type": "stream",
     "text": [
      "1\n",
      "-1 3\n",
      "n and p should be non-negative\n"
     ]
    }
   ],
   "source": [
    "myCalculator=Calculator()\n",
    "T=int(raw_input())\n",
    "for i in range(T):\n",
    "    n,p = map(int, raw_input().split())\n",
    "    try:\n",
    "        ans=myCalculator.power(n,p)\n",
    "        print ans\n",
    "    except Exception,e:\n",
    "        print e "
   ]
  },
  {
   "cell_type": "markdown",
   "metadata": {},
   "source": [
    "# Day 18: Queues and Stacks"
   ]
  },
  {
   "cell_type": "code",
   "execution_count": 94,
   "metadata": {
    "collapsed": true
   },
   "outputs": [],
   "source": [
    "import sys\n",
    "\n",
    "class Solution:\n",
    "    def __init__(self):\n",
    "        self.mystack = list()\n",
    "        self.myqueue = list()\n",
    "        return(None)\n",
    "    \n",
    "    def pushCharacter(self,char):\n",
    "        self.mystack.append(char)\n",
    "        \n",
    "    def popCharacter(self):\n",
    "        return self.mystack.pop()\n",
    "        \n",
    "    def enqueueCharacter(self,char):\n",
    "        self.myqueue.append(char)\n",
    "        \n",
    "    def dequeueCharacter(self):\n",
    "        return self.myqueue.pop(0)\n"
   ]
  },
  {
   "cell_type": "code",
   "execution_count": 95,
   "metadata": {
    "collapsed": false
   },
   "outputs": [
    {
     "name": "stdout",
     "output_type": "stream",
     "text": [
      "pali\n",
      "p\n",
      "a\n",
      "l\n",
      "i\n",
      "stack i\n",
      "queue p\n",
      "The word, pali, is not a palindrome."
     ]
    }
   ],
   "source": [
    "# read the string s\n",
    "s=raw_input()\n",
    "#Create the Solution class object\n",
    "obj=Solution()   \n",
    "\n",
    "l=len(s)\n",
    "# push/enqueue all the characters of string s to stack\n",
    "for i in range(l):\n",
    "    print s[i]\n",
    "    obj.pushCharacter(s[i])\n",
    "    obj.enqueueCharacter(s[i])\n",
    "    \n",
    "isPalindrome=True\n",
    "'''\n",
    "pop the top character from stack\n",
    "dequeue the first character from queue\n",
    "compare both the characters\n",
    "\n",
    "''' \n",
    "for i in range(l / 2):\n",
    "    print \"stack \" + obj.popCharacter()\n",
    "    print \"queue \" + obj.dequeueCharacter()\n",
    "    if obj.popCharacter()!=obj.dequeueCharacter():\n",
    "        #print obj.popCharacter() + obj.dequeueCharacter()\n",
    "        isPalindrome=False\n",
    "        break\n",
    "#finally print whether string s is palindrome or not.\n",
    "if isPalindrome:\n",
    "    sys.stdout.write (\"The word, \"+s+\", is a palindrome.\")\n",
    "else:\n",
    "    sys.stdout.write (\"The word, \"+s+\", is not a palindrome.\")    "
   ]
  },
  {
   "cell_type": "markdown",
   "metadata": {},
   "source": [
    "# Bubble Sort\n",
    "\n",
    "Task \n",
    "\n",
    "Given an array, a, of size n containing distinct elements , sort array  in ascending order using the Bubble Sort algorithm above. Once sorted, print the following  lines:\n",
    "\n",
    " \n",
    "where *numSwaps* is the number of swaps that took place.\n",
    " \n",
    "where *firstElement* is the first element in the sorted array.\n",
    " \n",
    "where *lastElement* is the last element in the sorted array."
   ]
  },
  {
   "cell_type": "code",
   "execution_count": 149,
   "metadata": {
    "collapsed": false
   },
   "outputs": [],
   "source": [
    "import sys\n",
    "\n",
    "def swap(left,right):\n",
    "    left,right=right,left\n",
    "    return [left,right]\n",
    "\n",
    "def bubbleSort(alist,n): \n",
    "    numSwaps = 0\n",
    "    for passnum in range(n-1,0,-1):\n",
    "        for i in range(passnum):\n",
    "            if alist[i] > alist[i+1]:\n",
    "                f = swap(alist[i],alist[i+1])\n",
    "                alist[i] = f[0]\n",
    "                alist[i+1] = f[1]\n",
    "                numSwaps += 1\n",
    "    return alist, numSwaps\n"
   ]
  },
  {
   "cell_type": "code",
   "execution_count": 151,
   "metadata": {
    "collapsed": false
   },
   "outputs": [
    {
     "name": "stdout",
     "output_type": "stream",
     "text": [
      "4 \n",
      "1 3 6 8\n"
     ]
    }
   ],
   "source": [
    "n = int(raw_input().strip())\n",
    "a = map(int,raw_input().strip().split(' '))\n",
    "\n",
    "s,k = bubbleSort(a,n)  \n",
    "\n",
    "print \"Array is sorted in \" + str(k) + \" swaps.\"\n",
    "print \"First Element: \" + str(s[0])\n",
    "print \"Last Element: \" + str(s[-1])"
   ]
  },
  {
   "cell_type": "code",
   "execution_count": 156,
   "metadata": {
    "collapsed": false
   },
   "outputs": [
    {
     "name": "stdout",
     "output_type": "stream",
     "text": [
      "[1, 3, 6, 8]\n"
     ]
    }
   ],
   "source": [
    "print s"
   ]
  },
  {
   "cell_type": "code",
   "execution_count": 153,
   "metadata": {
    "collapsed": false
   },
   "outputs": [
    {
     "name": "stdout",
     "output_type": "stream",
     "text": [
      "0\n"
     ]
    }
   ],
   "source": [
    "print k"
   ]
  },
  {
   "cell_type": "code",
   "execution_count": 158,
   "metadata": {
    "collapsed": false
   },
   "outputs": [
    {
     "name": "stdout",
     "output_type": "stream",
     "text": [
      "Array is sorted in 0 swaps.\n",
      "First Element: 1\n",
      "Last Element: 8\n"
     ]
    }
   ],
   "source": []
  },
  {
   "cell_type": "code",
   "execution_count": null,
   "metadata": {
    "collapsed": true
   },
   "outputs": [],
   "source": []
  }
 ],
 "metadata": {
  "kernelspec": {
   "display_name": "Python 2",
   "language": "python",
   "name": "python2"
  },
  "language_info": {
   "codemirror_mode": {
    "name": "ipython",
    "version": 2
   },
   "file_extension": ".py",
   "mimetype": "text/x-python",
   "name": "python",
   "nbconvert_exporter": "python",
   "pygments_lexer": "ipython2",
   "version": "2.7.10"
  }
 },
 "nbformat": 4,
 "nbformat_minor": 0
}
