{
 "cells": [
  {
   "cell_type": "markdown",
   "metadata": {},
   "source": [
    "You are given a string S. Your task is to swap cases. In other words, convert all lowercase letters to uppercase letters and vice versa."
   ]
  },
  {
   "cell_type": "code",
   "execution_count": null,
   "metadata": {
    "collapsed": true
   },
   "outputs": [],
   "source": [
    "''.join([letter.upper() if letter.islower() else letter.lower() for letter in list(raw_input(''))])"
   ]
  },
  {
   "cell_type": "markdown",
   "metadata": {},
   "source": [
    "Given the names and grades for each student in a Physics class of  students, store them in a nested list and print the name(s) of any student(s) having the second lowest grade.\n",
    "\n",
    "If there are multiple students with the same grade, order their names alphabetically and print each name on a new line"
   ]
  },
  {
   "cell_type": "code",
   "execution_count": 1,
   "metadata": {
    "collapsed": true
   },
   "outputs": [],
   "source": [
    "students = [['Harry', 37.21], ['Berry', 37.21], ['Tina', 37.2], ['Akriti', 41], ['Harsh', 39]]"
   ]
  },
  {
   "cell_type": "code",
   "execution_count": 2,
   "metadata": {
    "collapsed": false
   },
   "outputs": [
    {
     "data": {
      "text/plain": [
       "[['Harry', 37.21],\n",
       " ['Berry', 37.21],\n",
       " ['Tina', 37.2],\n",
       " ['Akriti', 41],\n",
       " ['Harsh', 39]]"
      ]
     },
     "execution_count": 2,
     "metadata": {},
     "output_type": "execute_result"
    }
   ],
   "source": [
    "students"
   ]
  },
  {
   "cell_type": "code",
   "execution_count": 5,
   "metadata": {
    "collapsed": false
   },
   "outputs": [
    {
     "ename": "SyntaxError",
     "evalue": "invalid syntax (<ipython-input-5-27584717efb3>, line 1)",
     "output_type": "error",
     "traceback": [
      "\u001b[0;36m  File \u001b[0;32m\"<ipython-input-5-27584717efb3>\"\u001b[0;36m, line \u001b[0;32m1\u001b[0m\n\u001b[0;31m    [print nlist for nlists in students]\u001b[0m\n\u001b[0m         ^\u001b[0m\n\u001b[0;31mSyntaxError\u001b[0m\u001b[0;31m:\u001b[0m invalid syntax\n"
     ]
    }
   ],
   "source": [
    "[print nlist for nlist in students]"
   ]
  },
  {
   "cell_type": "code",
   "execution_count": 29,
   "metadata": {
    "collapsed": false
   },
   "outputs": [
    {
     "name": "stdout",
     "output_type": "stream",
     "text": [
      "37.21\n"
     ]
    }
   ],
   "source": []
  },
  {
   "cell_type": "code",
   "execution_count": 45,
   "metadata": {
    "collapsed": false
   },
   "outputs": [],
   "source": [
    "second = []\n",
    "for i in students:\n",
    "    if i[1]==o[1]:\n",
    "        second.append(i[0])\n"
   ]
  },
  {
   "cell_type": "code",
   "execution_count": 84,
   "metadata": {
    "collapsed": false
   },
   "outputs": [
    {
     "name": "stdout",
     "output_type": "stream",
     "text": [
      "4\n",
      "mike\n",
      "6\n",
      "zuz\n",
      "5\n",
      "joomi\n",
      "4\n",
      "alez\n",
      "2\n",
      "joomi\n"
     ]
    }
   ],
   "source": [
    "students = []\n",
    "for _ in range(int(raw_input())):\n",
    "    name = raw_input()\n",
    "    score = float(raw_input())\n",
    "    students.append([name,score])\n",
    "    \n",
    "grades=[]\n",
    "second = []\n",
    "\n",
    "for i in students:\n",
    "    grades.append(i[1])\n",
    "\n",
    "o = list(set(grades))\n",
    "o.sort()\n",
    "\n",
    "for i in students:\n",
    "    if i[1]==o[1]:\n",
    "        second.append(i[0])\n",
    "\n",
    "second.sort()\n",
    "        \n",
    "for i in second:\n",
    "    print i"
   ]
  },
  {
   "cell_type": "code",
   "execution_count": null,
   "metadata": {
    "collapsed": true
   },
   "outputs": [],
   "source": []
  }
 ],
 "metadata": {
  "kernelspec": {
   "display_name": "Python 2",
   "language": "python",
   "name": "python2"
  },
  "language_info": {
   "codemirror_mode": {
    "name": "ipython",
    "version": 2
   },
   "file_extension": ".py",
   "mimetype": "text/x-python",
   "name": "python",
   "nbconvert_exporter": "python",
   "pygments_lexer": "ipython2",
   "version": "2.7.10"
  }
 },
 "nbformat": 4,
 "nbformat_minor": 0
}
