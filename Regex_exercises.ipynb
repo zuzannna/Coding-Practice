{
 "cells": [
  {
   "cell_type": "markdown",
   "metadata": {},
   "source": [
    "# Regex exercises from HackerRank\n",
    "\n",
    "In each case, add \n",
    "\n",
    "import re\n",
    "\n",
    "print(str(bool(re.search(Regex_Pattern, raw_input()))).lower())"
   ]
  },
  {
   "cell_type": "markdown",
   "metadata": {},
   "source": [
    "# Matching Specific Characters\n",
    "\n",
    "Task\n",
    "\n",
    "You have a test string . \n",
    "Your task is to write a regex that will match  with following conditions:\n",
    "\n",
    " must be of length: 6\n",
    "First character: 1, 2 or 3\n",
    "Second character: 1, 2 or 0\n",
    "Third character: x, s or 0\n",
    "Fourth character: 3, 0 , A or a\n",
    "Fifth character: x, s or u\n",
    "Sixth character: . or ,"
   ]
  },
  {
   "cell_type": "code",
   "execution_count": null,
   "metadata": {
    "collapsed": true
   },
   "outputs": [],
   "source": [
    "Regex_Pattern = r'^[123][120][xs0][30Aa][xsu][,.]$'\t# Do not delete 'r'.\n"
   ]
  },
  {
   "cell_type": "markdown",
   "metadata": {},
   "source": [
    "# Excluding Specific Characters\n",
    "\n",
    "Task\n",
    "\n",
    "You have a test string . \n",
    "Your task is to write a regex that will match  with the following conditions:\n",
    "\n",
    " must be of length 6.\n",
    "First character should not be a digit (  or  ).\n",
    "Second character should not be a lowercase vowel (  or  ).\n",
    "Third character should not be b, c, D or F.\n",
    "Fourth character should not be a whitespace character ( \\r, \\n, \\t, \\f or <space> ).\n",
    "Fifth character should not be a uppercase vowel (  or  ).\n",
    "Sixth character should not be a . or , symbol."
   ]
  },
  {
   "cell_type": "code",
   "execution_count": null,
   "metadata": {
    "collapsed": true
   },
   "outputs": [],
   "source": [
    "Regex_Pattern = r'^[^\\d][^aeiou][^bcDF][^w][^AEIOU][^.,]$'\t# Do not delete 'r'.\n"
   ]
  },
  {
   "cell_type": "markdown",
   "metadata": {},
   "source": [
    "# Matching Character Ranges\n",
    "Task\n",
    "\n",
    "Write a RegEx that will match a string satisfying the following conditions:\n",
    "\n",
    "The string's length is .\n",
    "The first character must be a lowercase English alphabetic character.\n",
    "The second character must be a positive digit. Note that we consider zero to be neither positive nor negative.\n",
    "The third character must not be a lowercase English alphabetic character.\n",
    "The fourth character must not be an uppercase English alphabetic character.\n",
    "The fifth character must be an uppercase English alphabetic character."
   ]
  },
  {
   "cell_type": "code",
   "execution_count": null,
   "metadata": {
    "collapsed": true
   },
   "outputs": [],
   "source": [
    "Regex_Pattern = r'^[a-z][1-9][^a-z][^A-Z][A-Z]+'\t# Do not delete 'r'.\n"
   ]
  }
 ],
 "metadata": {
  "kernelspec": {
   "display_name": "Python 2",
   "language": "python",
   "name": "python2"
  },
  "language_info": {
   "codemirror_mode": {
    "name": "ipython",
    "version": 2
   },
   "file_extension": ".py",
   "mimetype": "text/x-python",
   "name": "python",
   "nbconvert_exporter": "python",
   "pygments_lexer": "ipython2",
   "version": "2.7.10"
  }
 },
 "nbformat": 4,
 "nbformat_minor": 0
}
